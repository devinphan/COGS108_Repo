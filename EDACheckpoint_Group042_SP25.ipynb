{
  "cells": [
    {
      "cell_type": "markdown",
      "metadata": {
        "id": "view-in-github",
        "colab_type": "text"
      },
      "source": [
        "<a href=\"https://colab.research.google.com/github/devinphan/COGS108_Repo/blob/main/EDACheckpoint_Group042_SP25.ipynb\" target=\"_parent\"><img src=\"https://colab.research.google.com/assets/colab-badge.svg\" alt=\"Open In Colab\"/></a>"
      ]
    },
    {
      "cell_type": "markdown",
      "metadata": {
        "id": "byv4pFroXWj6"
      },
      "source": [
        "**If you lost points on the last checkpoint you can get them back by responding to TA/IA feedback**  \n",
        "\n",
        "Update/change the relevant sections where you lost those points, make sure you respond on GitHub Issues to your TA/IA to call their attention to the changes you made here.\n",
        "\n",
        "Please update your Timeline... no battle plan survives contact with the enemy, so make sure we understand how your plans have changed."
      ]
    },
    {
      "cell_type": "markdown",
      "metadata": {
        "id": "LIWFvbmwXWj7"
      },
      "source": [
        "# COGS 108 - EDA Checkpoint"
      ]
    },
    {
      "cell_type": "markdown",
      "metadata": {
        "id": "H9y6exMFXWj7"
      },
      "source": [
        "# Names\n",
        "\n",
        "- Jonathan Chau\n",
        "- Devin Phan\n",
        "- Clarence Bermudez\n",
        "- Keanu Santos-Frost\n",
        "- Jalen Marcelino"
      ]
    },
    {
      "cell_type": "markdown",
      "metadata": {
        "id": "N7tCT64OXWj7"
      },
      "source": [
        "# Research Question"
      ]
    },
    {
      "cell_type": "markdown",
      "metadata": {
        "id": "pqk8yEXnXWj7"
      },
      "source": [
        "-  Include a specific, clear data science question.\n",
        "-  Make sure what you're measuring (variables) to answer the question is clear\n",
        "\n",
        "What is your research question? Include the specific question you're setting out to answer. This question should be specific, answerable with data, and clear. A general question with specific subquestions is permitted. (1-2 sentences)\n",
        "\n",
        "Using the data from the 2014-2015 to the 2024-2025 NBA Seasons, does having a higher BMI average correlate with a higher risk of injury to NBA professionals?\n",
        "\n"
      ]
    },
    {
      "cell_type": "markdown",
      "metadata": {
        "id": "nUZ-NeY1XWj7"
      },
      "source": [
        "## Background and Prior Work"
      ]
    },
    {
      "cell_type": "markdown",
      "metadata": {
        "id": "EnOATt5nXWj7"
      },
      "source": [
        "\n",
        "- Include a general introduction to your topic\n",
        "- Include explanation of what work has been done previously\n",
        "- Include citations or links to previous work\n",
        "\n",
        "This section will present the background and context of your topic and question in a few paragraphs. Include a general introduction to your topic and then describe what information you currently know about the topic after doing your initial research. Include references to other projects who have asked similar questions or approached similar problems. Explain what others have learned in their projects.\n",
        "\n",
        "Find some relevant prior work, and reference those sources, summarizing what each did and what they learned. Even if you think you have a totally novel question, find the most similar prior work that you can and discuss how it relates to your project.\n",
        "\n",
        "References can be research publications, but they need not be. Blogs, GitHub repositories, company websites, etc., are all viable references if they are relevant to your project. It must be clear which information comes from which references. (2-3 paragraphs, including at least 2 references)\n",
        "\n",
        " **Use inline citation through HTML footnotes to specify which references support which statements**\n",
        "\n",
        "For example: After government genocide in the 20th century, real birds were replaced with surveillance drones designed to look just like birds.<a name=\"cite_ref-1\"></a>[<sup>1</sup>](#cite_note-1) Use a minimum of 2 or 3 citations, but we prefer more.<a name=\"cite_ref-2\"></a>[<sup>2</sup>](#cite_note-2) You need enough to fully explain and back up important facts.\n",
        "\n",
        "Note that if you click a footnote number in the paragraph above it will transport you to the proper entry in the footnotes list below.  And if you click the ^ in the footnote entry, it will return you to the place in the main text where the footnote is made.\n",
        "\n",
        "To understand the HTML here, `<a name=\"#...\"> </a>` is a tag that allows you produce a named reference for a given location.  Markdown has the construciton `[text with hyperlink](#named reference)` that will produce a clickable link that transports you the named reference.\n",
        "\n",
        "1. <a name=\"cite_note-1\"></a> [^](#cite_ref-1) Lorenz, T. (9 Dec 2021) Birds Aren’t Real, or Are They? Inside a Gen Z Conspiracy Theory. *The New York Times*. https://www.nytimes.com/2021/12/09/technology/birds-arent-real-gen-z-misinformation.html\n",
        "2. <a name=\"cite_note-2\"></a> [^](#cite_ref-2) Also refs should be important to the background, not some randomly chosen vaguely related stuff. Include a web link if possible in refs as above.\n",
        "\n",
        "Introduction\n",
        "\n",
        "Founded in 1946, the National Basketball Association (NBA) stands as the premier professional basketball league in the United States and Canada, showcasing the world’s most elite athletes. However, the sport’s fast-paced, high-impact nature—with its explosive jumps, sharp cuts, and physical collisions—inevitably leads to injuries, even among the best players. Given basketball’s heavy demand on the lower body, we hypothesize that a player’s Body Mass Index (BMI), which is a calculation of weight relative to height, could influence injury risk. In our study, we will calculate the BMI for every NBA player from every season in the last decade and then find the mean or average BMI among all the players. Then we will categorize each player into the below average or above average BMI group. From there, we will use average BMI as a metric to determine if a higher BMI correlates to a higher risk of injury for professional NBA players that came from the last decade.\n",
        "\n",
        "Prior Work\n",
        "\n",
        "One study conducted research on the main risk factors of getting injured in the National Basketball Association (NBA) League from the 2010-2011 season to the 2019-2020 (1). They determined risk factors based on data injuries, matches’ data, and players’ data. The study collected data from 1299 NBA players over ten seasons and every player was placed in one of seven player positions (center, center-forward, forward-center, guard, guard-forward, forward-guard, and forward) in order to gauge the playstyle of all players. Of all 1299 players, the mean Body Mass Index (BMI) was 24.91 km/m2. The study found that players of the center position were most vulnerable to getting injured according to the Cox regression model that calculates which factors increase a risk of injury. However, using another measure to determine risk factors for injury, like BMI, the study found that guards had BMIs furthest away from the average BMI, indicating these players were most prone to injury. This means that NBA players with a higher BMI were more susceptible to injuries.\n",
        "\n",
        "Another study examined NBA players from 2015-2021 to identify risk factors for season-ending injuries (SEIs) (2). Analyzing 238 SEIs across 196 players, researchers found the strongest predictor was minutes played per game (MPG), with players averaging 20-29.9 MPG at highest risk. SEIs peaked late in the season, suggesting fatigue plays a key role. Knee injuries were most common (0.47 per 1,000 game exposures). Notably, BMI, age and position showed no significant association with SEIs. The findings highlight the importance of managing player workload, particularly by controlling minutes and addressing late-season fatigue, rather than focusing on body composition. Limitations included reliance on media-reported injury data and excluding injuries in a team's final five games.\n",
        "\n",
        "These two studies don’t exactly answer our research question if NBA players with a higher BMI average correlate with a higher risk of injury to NBA professionals (from the 2014-2015 season to the 2024-2025 season). The problem with the first study is that BMI was not the primary variable in the analysis of risk factors for getting injured in the NBA. Within the discussion of BMI, the study did not compare the chances of injury between players with low and high BMIs. Also, the timeline of the data collection does not match our interest as we want data from the last decade not only being limited to the 2014-2015 season to the 2020-2021 season.\n",
        "\n",
        "The second study found that minutes per game (MPG) was an associated risk to getting injured with no mention of BMI. Even then, on a surface level, the study did not analyze the correlation between some factor risk and chances of getting injured. Instead, the researchers focused on a statistical relationship between two variables rather than concentrating on one specific variable and its consistent statistical relationship with injury risk.\n",
        "\n",
        "Ultimately, these two studies have statistically significant results that unfortunately do not answer our question. As a result, we are here to find out whether a higher BMI correlates to a higher risk of injury for NBA professionals. We will find appropriate datasets to collect data for our question, generate clear data visualizations, and conduct analyses to come to a concrete answer."
      ]
    },
    {
      "cell_type": "markdown",
      "metadata": {
        "id": "8jaqA003XWj7"
      },
      "source": [
        "# Hypothesis\n"
      ]
    },
    {
      "cell_type": "markdown",
      "metadata": {
        "id": "AKpDHdPvXWj7"
      },
      "source": [
        "\n",
        "- Include your team's hypothesis\n",
        "- Ensure that this hypothesis is clear to readers\n",
        "- Explain why you think this will be the outcome (what was your thinking?)\n",
        "\n",
        "What is your main hypothesis/predictions about what the answer to your question is? Briefly explain your thinking. (2-3 sentences)\n",
        "\n",
        "We hypothesize that NBA players with a higher average BMI will show a greater incidence of injuries across the 2014-2025 seasons. This expectation is based on existing sports science suggesting that greater body mass, regardless of composition, places additional strain on joints and soft tissues during high-impact activities. While BMI does not differentiate between muscle and fat, it remains a reasonable proxy for analyzing the relationship between player size and injury risk in a professional basketball context."
      ]
    },
    {
      "cell_type": "markdown",
      "metadata": {
        "id": "LizdlvTUXWj7"
      },
      "source": [
        "# Data"
      ]
    },
    {
      "cell_type": "markdown",
      "metadata": {
        "id": "y4YuN85vXWj7"
      },
      "source": [
        "## Data overview\n",
        "\n",
        "For each dataset include the following information\n",
        "- Dataset #1\n",
        "  - Dataset Name: Player Injures\n",
        "  - Link to the dataset: https://www.prosportstransactions.com/basketball/Search/SearchResults.php?Player=&Team=&BeginDate=2014-10-28&EndDate=2025-04-13&InjuriesChkBx=yes&Submit=Search&start=0\n",
        "  - Number of observations: 9528\n",
        "  - Number of variables: 5\n",
        "  - Description: This dataset provides the NBA players' injur history for seasons 2014-15 to 2024-25. This is done with some webscraping with that website, getting player injury history.With this dataset, we will compare it with the player's BMI in order to see if there are any correlation at all with BMI and player injury.\n",
        "- Dataset #2\n",
        "  - Dataset Name: Player Height and Weight\n",
        "  - Link to the dataset: https://basketball.realgm.com/nba/stats/2025/Averages/All/points/All/desc/1/Regular_Season\n",
        "  - Number of observations: 1425\n",
        "  - Number of variables: 3\n",
        "  - Description: This dataset provides the NBA players' height and weight information for seasons 2014-15 to 2024-25. This is done with some webscraping the website going through each season and taking every nba player. With this dataset, we will calculate each player's BMI in order to compare it with their injury history. By combining this dataset with player injures, we plan to analyze the linear relationship using linear regression plot and OLS regression.\n",
        "- Dataset #3\n",
        "  - Dataset Name: Merged Data Set\n",
        "  - Link to the dataset: Dataset #1 and Dataset #2\n",
        "  - Number of observations: 1425\n",
        "  - Number of variables: 6\n",
        "  - Description: This is the merged data set of the players height, weight, and injury history. We did BMI calculation and injury counting for each player from the datasets. There are also some injury notes that can look through to see any interesting things about each of the players' injuries.\n",
        "- etc\n",
        "\n",
        "Now write 2 - 5 sentences describing each dataset here. Include a short description of the important variables in the dataset; what the metrics and datatypes are, what concepts they may be proxies for. Include information about how you would need to wrangle/clean/preprocess the dataset\n",
        "\n",
        "If you plan to use multiple datasets, add a few sentences about how you plan to combine these datasets."
      ]
    },
    {
      "cell_type": "markdown",
      "source": [
        "**IMPORTS**"
      ],
      "metadata": {
        "id": "YCP6kE5xcNFw"
      }
    },
    {
      "cell_type": "code",
      "execution_count": null,
      "metadata": {
        "id": "JOuY4ah-XWj7"
      },
      "outputs": [],
      "source": [
        "import requests\n",
        "from bs4 import BeautifulSoup\n",
        "import re\n",
        "import time\n",
        "import pandas as pd\n",
        "import os\n",
        "from urllib.parse import urljoin\n",
        "from tqdm import tqdm\n",
        "import json"
      ]
    },
    {
      "cell_type": "markdown",
      "source": [
        "**Merged Data Sets**"
      ],
      "metadata": {
        "id": "b7EiUmLOe8nk"
      }
    },
    {
      "cell_type": "code",
      "source": [
        "merged = pd.read_csv('players_bmi_injuries_merged.csv')\n",
        "merged"
      ],
      "metadata": {
        "colab": {
          "base_uri": "https://localhost:8080/",
          "height": 321
        },
        "id": "x8QU58jJfL9G",
        "outputId": "d3f1c20a-f08d-4fc2-8e18-1692b6afea64"
      },
      "execution_count": null,
      "outputs": [
        {
          "output_type": "error",
          "ename": "FileNotFoundError",
          "evalue": "[Errno 2] No such file or directory: 'players_bmi_injuries_merged.csv'",
          "traceback": [
            "\u001b[0;31m---------------------------------------------------------------------------\u001b[0m",
            "\u001b[0;31mFileNotFoundError\u001b[0m                         Traceback (most recent call last)",
            "\u001b[0;32m<ipython-input-2-c18729aef683>\u001b[0m in \u001b[0;36m<cell line: 0>\u001b[0;34m()\u001b[0m\n\u001b[0;32m----> 1\u001b[0;31m \u001b[0mmerged\u001b[0m \u001b[0;34m=\u001b[0m \u001b[0mpd\u001b[0m\u001b[0;34m.\u001b[0m\u001b[0mread_csv\u001b[0m\u001b[0;34m(\u001b[0m\u001b[0;34m'players_bmi_injuries_merged.csv'\u001b[0m\u001b[0;34m)\u001b[0m\u001b[0;34m\u001b[0m\u001b[0;34m\u001b[0m\u001b[0m\n\u001b[0m\u001b[1;32m      2\u001b[0m \u001b[0mmerged\u001b[0m\u001b[0;34m\u001b[0m\u001b[0;34m\u001b[0m\u001b[0m\n",
            "\u001b[0;32m/usr/local/lib/python3.11/dist-packages/pandas/io/parsers/readers.py\u001b[0m in \u001b[0;36mread_csv\u001b[0;34m(filepath_or_buffer, sep, delimiter, header, names, index_col, usecols, dtype, engine, converters, true_values, false_values, skipinitialspace, skiprows, skipfooter, nrows, na_values, keep_default_na, na_filter, verbose, skip_blank_lines, parse_dates, infer_datetime_format, keep_date_col, date_parser, date_format, dayfirst, cache_dates, iterator, chunksize, compression, thousands, decimal, lineterminator, quotechar, quoting, doublequote, escapechar, comment, encoding, encoding_errors, dialect, on_bad_lines, delim_whitespace, low_memory, memory_map, float_precision, storage_options, dtype_backend)\u001b[0m\n\u001b[1;32m   1024\u001b[0m     \u001b[0mkwds\u001b[0m\u001b[0;34m.\u001b[0m\u001b[0mupdate\u001b[0m\u001b[0;34m(\u001b[0m\u001b[0mkwds_defaults\u001b[0m\u001b[0;34m)\u001b[0m\u001b[0;34m\u001b[0m\u001b[0;34m\u001b[0m\u001b[0m\n\u001b[1;32m   1025\u001b[0m \u001b[0;34m\u001b[0m\u001b[0m\n\u001b[0;32m-> 1026\u001b[0;31m     \u001b[0;32mreturn\u001b[0m \u001b[0m_read\u001b[0m\u001b[0;34m(\u001b[0m\u001b[0mfilepath_or_buffer\u001b[0m\u001b[0;34m,\u001b[0m \u001b[0mkwds\u001b[0m\u001b[0;34m)\u001b[0m\u001b[0;34m\u001b[0m\u001b[0;34m\u001b[0m\u001b[0m\n\u001b[0m\u001b[1;32m   1027\u001b[0m \u001b[0;34m\u001b[0m\u001b[0m\n\u001b[1;32m   1028\u001b[0m \u001b[0;34m\u001b[0m\u001b[0m\n",
            "\u001b[0;32m/usr/local/lib/python3.11/dist-packages/pandas/io/parsers/readers.py\u001b[0m in \u001b[0;36m_read\u001b[0;34m(filepath_or_buffer, kwds)\u001b[0m\n\u001b[1;32m    618\u001b[0m \u001b[0;34m\u001b[0m\u001b[0m\n\u001b[1;32m    619\u001b[0m     \u001b[0;31m# Create the parser.\u001b[0m\u001b[0;34m\u001b[0m\u001b[0;34m\u001b[0m\u001b[0m\n\u001b[0;32m--> 620\u001b[0;31m     \u001b[0mparser\u001b[0m \u001b[0;34m=\u001b[0m \u001b[0mTextFileReader\u001b[0m\u001b[0;34m(\u001b[0m\u001b[0mfilepath_or_buffer\u001b[0m\u001b[0;34m,\u001b[0m \u001b[0;34m**\u001b[0m\u001b[0mkwds\u001b[0m\u001b[0;34m)\u001b[0m\u001b[0;34m\u001b[0m\u001b[0;34m\u001b[0m\u001b[0m\n\u001b[0m\u001b[1;32m    621\u001b[0m \u001b[0;34m\u001b[0m\u001b[0m\n\u001b[1;32m    622\u001b[0m     \u001b[0;32mif\u001b[0m \u001b[0mchunksize\u001b[0m \u001b[0;32mor\u001b[0m \u001b[0miterator\u001b[0m\u001b[0;34m:\u001b[0m\u001b[0;34m\u001b[0m\u001b[0;34m\u001b[0m\u001b[0m\n",
            "\u001b[0;32m/usr/local/lib/python3.11/dist-packages/pandas/io/parsers/readers.py\u001b[0m in \u001b[0;36m__init__\u001b[0;34m(self, f, engine, **kwds)\u001b[0m\n\u001b[1;32m   1618\u001b[0m \u001b[0;34m\u001b[0m\u001b[0m\n\u001b[1;32m   1619\u001b[0m         \u001b[0mself\u001b[0m\u001b[0;34m.\u001b[0m\u001b[0mhandles\u001b[0m\u001b[0;34m:\u001b[0m \u001b[0mIOHandles\u001b[0m \u001b[0;34m|\u001b[0m \u001b[0;32mNone\u001b[0m \u001b[0;34m=\u001b[0m \u001b[0;32mNone\u001b[0m\u001b[0;34m\u001b[0m\u001b[0;34m\u001b[0m\u001b[0m\n\u001b[0;32m-> 1620\u001b[0;31m         \u001b[0mself\u001b[0m\u001b[0;34m.\u001b[0m\u001b[0m_engine\u001b[0m \u001b[0;34m=\u001b[0m \u001b[0mself\u001b[0m\u001b[0;34m.\u001b[0m\u001b[0m_make_engine\u001b[0m\u001b[0;34m(\u001b[0m\u001b[0mf\u001b[0m\u001b[0;34m,\u001b[0m \u001b[0mself\u001b[0m\u001b[0;34m.\u001b[0m\u001b[0mengine\u001b[0m\u001b[0;34m)\u001b[0m\u001b[0;34m\u001b[0m\u001b[0;34m\u001b[0m\u001b[0m\n\u001b[0m\u001b[1;32m   1621\u001b[0m \u001b[0;34m\u001b[0m\u001b[0m\n\u001b[1;32m   1622\u001b[0m     \u001b[0;32mdef\u001b[0m \u001b[0mclose\u001b[0m\u001b[0;34m(\u001b[0m\u001b[0mself\u001b[0m\u001b[0;34m)\u001b[0m \u001b[0;34m->\u001b[0m \u001b[0;32mNone\u001b[0m\u001b[0;34m:\u001b[0m\u001b[0;34m\u001b[0m\u001b[0;34m\u001b[0m\u001b[0m\n",
            "\u001b[0;32m/usr/local/lib/python3.11/dist-packages/pandas/io/parsers/readers.py\u001b[0m in \u001b[0;36m_make_engine\u001b[0;34m(self, f, engine)\u001b[0m\n\u001b[1;32m   1878\u001b[0m                 \u001b[0;32mif\u001b[0m \u001b[0;34m\"b\"\u001b[0m \u001b[0;32mnot\u001b[0m \u001b[0;32min\u001b[0m \u001b[0mmode\u001b[0m\u001b[0;34m:\u001b[0m\u001b[0;34m\u001b[0m\u001b[0;34m\u001b[0m\u001b[0m\n\u001b[1;32m   1879\u001b[0m                     \u001b[0mmode\u001b[0m \u001b[0;34m+=\u001b[0m \u001b[0;34m\"b\"\u001b[0m\u001b[0;34m\u001b[0m\u001b[0;34m\u001b[0m\u001b[0m\n\u001b[0;32m-> 1880\u001b[0;31m             self.handles = get_handle(\n\u001b[0m\u001b[1;32m   1881\u001b[0m                 \u001b[0mf\u001b[0m\u001b[0;34m,\u001b[0m\u001b[0;34m\u001b[0m\u001b[0;34m\u001b[0m\u001b[0m\n\u001b[1;32m   1882\u001b[0m                 \u001b[0mmode\u001b[0m\u001b[0;34m,\u001b[0m\u001b[0;34m\u001b[0m\u001b[0;34m\u001b[0m\u001b[0m\n",
            "\u001b[0;32m/usr/local/lib/python3.11/dist-packages/pandas/io/common.py\u001b[0m in \u001b[0;36mget_handle\u001b[0;34m(path_or_buf, mode, encoding, compression, memory_map, is_text, errors, storage_options)\u001b[0m\n\u001b[1;32m    871\u001b[0m         \u001b[0;32mif\u001b[0m \u001b[0mioargs\u001b[0m\u001b[0;34m.\u001b[0m\u001b[0mencoding\u001b[0m \u001b[0;32mand\u001b[0m \u001b[0;34m\"b\"\u001b[0m \u001b[0;32mnot\u001b[0m \u001b[0;32min\u001b[0m \u001b[0mioargs\u001b[0m\u001b[0;34m.\u001b[0m\u001b[0mmode\u001b[0m\u001b[0;34m:\u001b[0m\u001b[0;34m\u001b[0m\u001b[0;34m\u001b[0m\u001b[0m\n\u001b[1;32m    872\u001b[0m             \u001b[0;31m# Encoding\u001b[0m\u001b[0;34m\u001b[0m\u001b[0;34m\u001b[0m\u001b[0m\n\u001b[0;32m--> 873\u001b[0;31m             handle = open(\n\u001b[0m\u001b[1;32m    874\u001b[0m                 \u001b[0mhandle\u001b[0m\u001b[0;34m,\u001b[0m\u001b[0;34m\u001b[0m\u001b[0;34m\u001b[0m\u001b[0m\n\u001b[1;32m    875\u001b[0m                 \u001b[0mioargs\u001b[0m\u001b[0;34m.\u001b[0m\u001b[0mmode\u001b[0m\u001b[0;34m,\u001b[0m\u001b[0;34m\u001b[0m\u001b[0;34m\u001b[0m\u001b[0m\n",
            "\u001b[0;31mFileNotFoundError\u001b[0m: [Errno 2] No such file or directory: 'players_bmi_injuries_merged.csv'"
          ]
        }
      ]
    },
    {
      "cell_type": "markdown",
      "source": [
        "**Dataset Description**"
      ],
      "metadata": {
        "id": "IozXPyHIfPOM"
      }
    },
    {
      "cell_type": "markdown",
      "source": [
        "Aspect\tDetails\n",
        "Rows (players)\t1 425 unique NBA players who appeared on a roster or an injury report between October 2014 and April 2025.\n",
        "Columns (6)\n",
        "1. Name – canonical player name (string)\n",
        "2. Height_in – playing-height in inches (67 ″ to 90 ″)\n",
        "3. Weight_lb – listed playing-weight in pounds (149 lb to 355 lb)\n",
        "4. BMI – body-mass-index, computed as (lb / in² × 703); mean 24.63, IQR ≈ 23.52 – 25.77\n",
        "5. Injury_Count – number of distinct injury episodes logged for the player during 2014-2025 (0 – 51)\n",
        "6. Injury_Notes – pipe-separated list of unique injury descriptions (blank if no injuries)\n",
        "Missing data\tOnly Injury_Notes is missing on 523 rows—those are the 523 players whose Injury_Count = 0. Height, weight and BMI are complete.\n",
        "Injury snapshot\t• 902 players (63 %) sustained ≥ 1 logged injury\n",
        "• Median injuries = 1; 75 th pct = 5\n",
        "• Highest counts: Joel Embiid 51, Anthony Davis 42, Derrick Rose 37, Porziņģis 34, Kevin Love 32\n",
        "BMI extremes\t• Highest: Zion Williamson 32.8, Kenny Lofton Jr 31.8, Sim Bhullar 31.5\n",
        "• Lowest: John Butler 18.9, Maozinha Pereira 19.4, Terquavion Smith 19.5\n",
        "Typical player profile\t6 ft 6 in (78 in), 220 lb, BMI ≈ 25, with 0–1 injury entries over the 11-season window."
      ],
      "metadata": {
        "id": "s2D2rKHSfWnt"
      }
    },
    {
      "cell_type": "markdown",
      "metadata": {
        "id": "vayNNBp1XWj8"
      },
      "source": [
        "# Results\n",
        "\n",
        "## Exploratory Data Analysis\n",
        "\n",
        "Carry out whatever EDA you need to for your project.  Because every project will be different we can't really give you much of a template at this point. But please make sure you describe the what and why in text here as well as providing interpretation of results and context."
      ]
    },
    {
      "cell_type": "markdown",
      "metadata": {
        "id": "8GxmspuVXWj8"
      },
      "source": [
        "### Section 1 of EDA - please give it a better title than this\n",
        "\n",
        "Some more words and stuff.  Remember notebooks work best if you interleave the code that generates a result with properly annotate figures and text that puts these results into context."
      ]
    },
    {
      "cell_type": "code",
      "execution_count": null,
      "metadata": {
        "id": "D_Ii_2FmXWj8"
      },
      "outputs": [],
      "source": [
        "## YOUR CODE HERE\n",
        "## FEEL FREE TO ADD MULTIPLE CELLS PER SECTION"
      ]
    },
    {
      "cell_type": "markdown",
      "metadata": {
        "id": "3ZVEWeEWXWj8"
      },
      "source": [
        "### Section 2 of EDA if you need it  - please give it a better title than this\n",
        "\n",
        "Some more words and stuff.  Remember notebooks work best if you interleave the code that generates a result with properly annotate figures and text that puts these results into context."
      ]
    },
    {
      "cell_type": "code",
      "execution_count": null,
      "metadata": {
        "id": "kK0ioCfcXWj8"
      },
      "outputs": [],
      "source": [
        "## YOUR CODE HERE\n",
        "## FEEL FREE TO ADD MULTIPLE CELLS PER SECTION"
      ]
    },
    {
      "cell_type": "markdown",
      "metadata": {
        "id": "QH3oIzv_XWj8"
      },
      "source": [
        "# Ethics & Privacy"
      ]
    },
    {
      "cell_type": "markdown",
      "metadata": {
        "id": "NQTexudAXWj8"
      },
      "source": [
        "- Thoughtful discussion of ethical concerns included\n",
        "- Ethical concerns consider the whole data science process (question asked, data collected, data being used, the bias in data, analysis, post-analysis, etc.)\n",
        "- How your group handled bias/ethical concerns clearly described\n",
        "\n",
        "Acknowledge and address any ethics & privacy related issues of your question(s), proposed dataset(s), and/or analyses. Use the information provided in lecture to guide your group discussion and thinking. If you need further guidance, check out [Deon's Ethics Checklist](http://deon.drivendata.org/#data-science-ethics-checklist). In particular:\n",
        "\n",
        "- Are there any biases/privacy/terms of use issues with the data you propsed?\n",
        "- Are there potential biases in your dataset(s), in terms of who it composes, and how it was collected, that may be problematic in terms of it allowing for equitable analysis? (For example, does your data exclude particular populations, or is it likely to reflect particular human biases in a way that could be a problem?)\n",
        "- How will you set out to detect these specific biases before, during, and after/when communicating your analysis?\n",
        "- Are there any other issues related to your topic area, data, and/or analyses that are potentially problematic in terms of data privacy and equitable impact?\n",
        "- How will you handle issues you identified?"
      ]
    },
    {
      "cell_type": "markdown",
      "metadata": {
        "id": "myJk6-_wXWj8"
      },
      "source": [
        "# Team Expectations"
      ]
    },
    {
      "cell_type": "markdown",
      "metadata": {
        "id": "Nq21fzX4XWj8"
      },
      "source": [
        "\n",
        "Read over the [COGS108 Team Policies](https://github.com/COGS108/Projects/blob/master/COGS108_TeamPolicies.md) individually. Then, include your group’s expectations of one another for successful completion of your COGS108 project below. Discuss and agree on what all of your expectations are. Discuss how your team will communicate throughout the quarter and consider how you will communicate respectfully should conflicts arise. By including each member’s name above and by adding their name to the submission, you are indicating that you have read the COGS108 Team Policies, accept your team’s expectations below, and have every intention to fulfill them. These expectations are for your team’s use and benefit — they won’t be graded for their details.\n",
        "\n",
        "* *Team Expectation 1*\n",
        "* *Team Expectation 2*\n",
        "* *Team Expecation 3*\n",
        "* ..."
      ]
    },
    {
      "cell_type": "markdown",
      "metadata": {
        "id": "V816EDaBXWj8"
      },
      "source": [
        "# Project Timeline Proposal"
      ]
    },
    {
      "cell_type": "markdown",
      "metadata": {
        "id": "OSKlOMA0XWj8"
      },
      "source": [
        "Specify your team's specific project timeline. An example timeline has been provided. Changes the dates, times, names, and details to fit your group's plan.\n",
        "\n",
        "If you think you will need any special resources or training outside what we have covered in COGS 108 to solve your problem, then your proposal should state these clearly. For example, if you have selected a problem that involves implementing multiple neural networks, please state this so we can make sure you know what you’re doing and so we can point you to resources you will need to implement your project. Note that you are not required to use outside methods.\n",
        "\n",
        "\n",
        "\n",
        "| Meeting Date  | Meeting Time| Completed Before Meeting  | Discuss at Meeting |\n",
        "|---|---|---|---|\n",
        "| 1/20  |  1 PM | Read & Think about COGS 108 expectations; brainstorm topics/questions  | Determine best form of communication; Discuss and decide on final project topic; discuss hypothesis; begin background research |\n",
        "| 1/26  |  10 AM |  Do background research on topic | Discuss ideal dataset(s) and ethics; draft project proposal |\n",
        "| 2/1  | 10 AM  | Edit, finalize, and submit proposal; Search for datasets  | Discuss Wrangling and possible analytical approaches; Assign group members to lead each specific part   |\n",
        "| 2/14  | 6 PM  | Import & Wrangle Data (Ant Man); EDA (Hulk) | Review/Edit wrangling/EDA; Discuss Analysis Plan   |\n",
        "| 2/23  | 12 PM  | Finalize wrangling/EDA; Begin Analysis (Iron Man; Thor) | Discuss/edit Analysis; Complete project check-in |\n",
        "| 3/13  | 12 PM  | Complete analysis; Draft results/conclusion/discussion (Wasp)| Discuss/edit full project |\n",
        "| 3/20  | Before 11:59 PM  | NA | Turn in Final Project & Group Project Surveys |"
      ]
    }
  ],
  "metadata": {
    "kernelspec": {
      "display_name": "Python 3 (ipykernel)",
      "language": "python",
      "name": "python3"
    },
    "language_info": {
      "codemirror_mode": {
        "name": "ipython",
        "version": 3
      },
      "file_extension": ".py",
      "mimetype": "text/x-python",
      "name": "python",
      "nbconvert_exporter": "python",
      "pygments_lexer": "ipython3",
      "version": "3.9.7"
    },
    "colab": {
      "provenance": [],
      "include_colab_link": true
    }
  },
  "nbformat": 4,
  "nbformat_minor": 0
}